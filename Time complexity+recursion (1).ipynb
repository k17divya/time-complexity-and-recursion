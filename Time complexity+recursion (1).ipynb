{
 "cells": [
  {
   "cell_type": "code",
   "execution_count": null,
   "id": "46618a3d-142c-452b-9f01-09c5bf6970ae",
   "metadata": {},
   "outputs": [],
   "source": []
  },
  {
   "cell_type": "code",
   "execution_count": null,
   "id": "a97f314f-7fed-4d24-9cf2-5b4a8b648d1c",
   "metadata": {},
   "outputs": [],
   "source": [
    "# problem 2 "
   ]
  },
  {
   "cell_type": "code",
   "execution_count": null,
   "id": "152d8c6c-9d47-4de6-ba1a-85f123459c4c",
   "metadata": {},
   "outputs": [],
   "source": [
    "> Nested Loops: The function contains two nested loops, iterating over each element in a 2D matrix matrix. Let's assume the matrix has dimensions rows × cols. The outer loop runs rows times, and for each iteration of the outer loop, the inner loop runs cols times. This results in a total of rows × cols iterations of the inner loop.\n",
    "\n",
    "> Operations Inside the Loops: Inside the inner loop, there is a single operation: adding matrix[i][j] to the total variable. This operation has a constant time complexity, denoted as O(1)."
   ]
  },
  {
   "cell_type": "code",
   "execution_count": 11,
   "id": "e80af102-a603-4700-9f53-b83db7ae70c6",
   "metadata": {},
   "outputs": [],
   "source": [
    "# problem 3 "
   ]
  },
  {
   "cell_type": "code",
   "execution_count": null,
   "id": "5430d5e3-1290-4a64-9b69-14385bf1f22f",
   "metadata": {},
   "outputs": [],
   "source": [
    "> Iterating Over the Array: The function iterates over each element in the input array arr exactly once. This operation has a time complexity of O(n), where n is the number of elements in the array.\n",
    "> Addition Operation: Inside the loop, there is a single addition operation (result += element). This operation has a constant time complexity, denoted as O(1)."
   ]
  },
  {
   "cell_type": "code",
   "execution_count": 1,
   "id": "307b3ae0-034b-4802-8f91-5a26c28205b3",
   "metadata": {},
   "outputs": [],
   "source": [
    "# problem 6"
   ]
  },
  {
   "cell_type": "code",
   "execution_count": 2,
   "id": "50292283-7191-4a05-ae4e-b33e501cd982",
   "metadata": {},
   "outputs": [
    {
     "name": "stdout",
     "output_type": "stream",
     "text": [
      "6\n"
     ]
    }
   ],
   "source": [
    "def sum_of_digits(n):\n",
    "    if n == 0:\n",
    "        return 0\n",
    "    else:\n",
    "        return n % 10 + sum_of_digits(n // 10)\n",
    "\n",
    "# Example usage\n",
    "print(sum_of_digits(123))  # Output: 6"
   ]
  },
  {
   "cell_type": "code",
   "execution_count": 3,
   "id": "96de056d-2412-4d9c-bd33-120238d334f1",
   "metadata": {},
   "outputs": [],
   "source": [
    "# problem 7"
   ]
  },
  {
   "cell_type": "code",
   "execution_count": 4,
   "id": "c8376302-c5a9-4ce4-ae5f-15060b0eecd2",
   "metadata": {},
   "outputs": [
    {
     "name": "stdout",
     "output_type": "stream",
     "text": [
      "[0, 1, 1, 2, 3, 5]\n"
     ]
    }
   ],
   "source": [
    "def fibonacci_series(n):\n",
    "    if n == 0:\n",
    "        return []\n",
    "    elif n == 1:\n",
    "        return [0]\n",
    "    elif n == 2:\n",
    "        return [0, 1]\n",
    "    else:\n",
    "        series = fibonacci_series(n - 1)\n",
    "        series.append(series[-1] + series[-2])\n",
    "        return series\n",
    "\n",
    "print(fibonacci_series(6))  # Output: [0, 1, 1, 2, 3, 5]"
   ]
  },
  {
   "cell_type": "code",
   "execution_count": 5,
   "id": "7d058b71-e185-46be-96c5-109fe89ad1f2",
   "metadata": {},
   "outputs": [],
   "source": [
    "# problem 8"
   ]
  },
  {
   "cell_type": "code",
   "execution_count": 6,
   "id": "97fd0500-fcbe-4041-aeba-3345afcd105c",
   "metadata": {},
   "outputs": [
    {
     "name": "stdout",
     "output_type": "stream",
     "text": [
      "True\n"
     ]
    }
   ],
   "source": [
    "def subset_sum(arr, target_sum, n):\n",
    "    # Base\n",
    "    if target_sum == 0:\n",
    "        return True\n",
    "    if n == 0 and target_sum != 0:\n",
    "        return False\n",
    "    \n",
    "    # If the last element is greater than the target sum, then ignore it\n",
    "    if arr[n - 1] > target_sum:\n",
    "        return subset_sum(arr, target_sum, n - 1)\n",
    "    \n",
    "    # Check if the sum can be obtained by either including or excluding the last element\n",
    "    return subset_sum(arr, target_sum, n - 1) or subset_sum(arr, target_sum - arr[n - 1], n - 1)\n",
    "\n",
    "def subset_sum_wrapper(arr, target_sum):\n",
    "    return subset_sum(arr, target_sum, len(arr))\n",
    "\n",
    "print(subset_sum_wrapper([3, 34, 4, 12, 5, 2], 9))  # Output: True"
   ]
  },
  {
   "cell_type": "code",
   "execution_count": 7,
   "id": "cd10ffa4-a8f8-4c56-a970-640acf002a16",
   "metadata": {},
   "outputs": [],
   "source": [
    "# problem 9"
   ]
  },
  {
   "cell_type": "code",
   "execution_count": 8,
   "id": "6fb9e05c-dddf-44bb-b403-5a613a0d62d1",
   "metadata": {},
   "outputs": [
    {
     "name": "stdout",
     "output_type": "stream",
     "text": [
      "True\n"
     ]
    }
   ],
   "source": [
    "def word_break(s, word_dict):\n",
    "    if not s:\n",
    "        return True\n",
    "    \n",
    "    for i in range(1, len(s) + 1):\n",
    "        if s[:i] in word_dict and word_break(s[i:], word_dict):\n",
    "            return True\n",
    "    \n",
    "    return False\n",
    "\n",
    "print(word_break(\"leetcode\", [\"leet\", \"code\"])) "
   ]
  },
  {
   "cell_type": "code",
   "execution_count": 9,
   "id": "857aa2b8-9bf1-4b5d-8ab0-45329480cec6",
   "metadata": {},
   "outputs": [],
   "source": [
    "# problem 10"
   ]
  },
  {
   "cell_type": "code",
   "execution_count": 10,
   "id": "39f254e6-45fc-4045-8879-f5ac881e202a",
   "metadata": {},
   "outputs": [
    {
     "name": "stdout",
     "output_type": "stream",
     "text": [
      "[['.Q..', '...Q', 'Q...', '..Q.'], ['..Q.', 'Q...', '...Q', '.Q..']]\n"
     ]
    }
   ],
   "source": [
    "def is_safe(board, row, col, n):\n",
    "    # Check if there is a queen in the same column\n",
    "    for i in range(row):\n",
    "        if board[i][col] == \"Q\":\n",
    "            return False\n",
    "    \n",
    "    # Check upper left diagonal\n",
    "    i, j = row, col\n",
    "    while i >= 0 and j >= 0:\n",
    "        if board[i][j] == \"Q\":\n",
    "            return False\n",
    "        i -= 1\n",
    "        j -= 1\n",
    "    \n",
    "    # Check upper right diagonal\n",
    "    i, j = row, col\n",
    "    while i >= 0 and j < n:\n",
    "        if board[i][j] == \"Q\":\n",
    "            return False\n",
    "        i -= 1\n",
    "        j += 1\n",
    "    \n",
    "    return True\n",
    "\n",
    "def solve_n_queens(n):\n",
    "    def backtrack(row):\n",
    "        if row == n:\n",
    "            result.append([\"\".join(r) for r in board])\n",
    "            return\n",
    "        for col in range(n):\n",
    "            if is_safe(board, row, col, n):\n",
    "                board[row][col] = \"Q\"\n",
    "                backtrack(row + 1)\n",
    "                board[row][col] = \".\"\n",
    "    \n",
    "    result = []\n",
    "    board = [[\".\" for _ in range(n)] for _ in range(n)]\n",
    "    backtrack(0)\n",
    "    return result\n",
    "\n",
    "print(solve_n_queens(4))  "
   ]
  },
  {
   "cell_type": "code",
   "execution_count": null,
   "id": "d450f688-9b31-47e6-97a8-18280355a312",
   "metadata": {},
   "outputs": [],
   "source": []
  }
 ],
 "metadata": {
  "kernelspec": {
   "display_name": "Python 3 (ipykernel)",
   "language": "python",
   "name": "python3"
  },
  "language_info": {
   "codemirror_mode": {
    "name": "ipython",
    "version": 3
   },
   "file_extension": ".py",
   "mimetype": "text/x-python",
   "name": "python",
   "nbconvert_exporter": "python",
   "pygments_lexer": "ipython3",
   "version": "3.10.8"
  }
 },
 "nbformat": 4,
 "nbformat_minor": 5
}
